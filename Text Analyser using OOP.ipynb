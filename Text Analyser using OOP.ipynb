{
  "metadata": {
    "kernelspec": {
      "name": "python",
      "display_name": "Python (Pyodide)",
      "language": "python"
    },
    "language_info": {
      "codemirror_mode": {
        "name": "python",
        "version": 3
      },
      "file_extension": ".py",
      "mimetype": "text/x-python",
      "name": "python",
      "nbconvert_exporter": "python",
      "pygments_lexer": "ipython3",
      "version": "3.8"
    }
  },
  "nbformat_minor": 5,
  "nbformat": 4,
  "cells": [
    {
      "id": "0fc1239c-0c9a-4159-88eb-4a232cfa662d",
      "cell_type": "code",
      "source": "class textanalyser(object):\n    def __init__(self,text):\n        Fmttxt = text.replace(',','').replace('.','')\n        Fmttxt = Fmttxt.lower()\n        self.formattedtext = Fmttxt\n        \n    def FreqAll(self):\n        wordlist = self.formattedtext.split(' ')\n        Worddict = {}\n        for word in wordlist:\n            Worddict[word] = wordlist.count(word)\n        return Worddict\n    \n    def Freqof(self,word):\n        freqdict=self.FreqAll()\n        if word in freqdict:\n            return freqdict[word]\n        else:\n            return 0\n        \nRandomS = \"Clouds drift, birds soar, waves crash. Silence lingers, whispers fade, whispers fade. Shadows dance, leaves rustle, time slows. Hearts beat, hearts beat, dreams grow.\"\n\n\nTextAnalysed = textanalyser(RandomS)\nprint(\"Frequency dictionary:\", TextAnalysed.FreqAll())\n# This is an example for the word \"hearts\".\nprint(\"Frequency of the word 'hearts' is\", TextAnalysed.Freqof('hearts'),'.')",
      "metadata": {
        "trusted": true
      },
      "outputs": [
        {
          "name": "stdout",
          "output_type": "stream",
          "text": "Frequency dictionary: {'clouds': 1, 'drift': 1, 'birds': 1, 'soar': 1, 'waves': 1, 'crash': 1, 'silence': 1, 'lingers': 1, 'whispers': 2, 'fade': 2, 'shadows': 1, 'dance': 1, 'leaves': 1, 'rustle': 1, 'time': 1, 'slows': 1, 'hearts': 2, 'beat': 2, 'dreams': 1, 'grow': 1}\nFrequency of the word 'hearts' is 2 .\n"
        }
      ],
      "execution_count": 1
    }
  ]
}